{
 "cells": [
  {
   "cell_type": "markdown",
   "id": "5e22905b",
   "metadata": {},
   "source": [
    "# Descriptip Statistics"
   ]
  },
  {
   "cell_type": "markdown",
   "id": "be819a59",
   "metadata": {},
   "source": [
    "# Central tendency , When we talk about average value, middle value and most frequent value it means we informally talking about mean, median and mode"
   ]
  },
  {
   "cell_type": "code",
   "execution_count": 511,
   "id": "3a6bff76",
   "metadata": {},
   "outputs": [],
   "source": [
    "import numpy as np\n",
    "from scipy import stats"
   ]
  },
  {
   "cell_type": "code",
   "execution_count": 512,
   "id": "367e4ae8",
   "metadata": {},
   "outputs": [],
   "source": [
    "df = np.array([39,29,43,52,39,44,40,31,44,35])"
   ]
  },
  {
   "cell_type": "code",
   "execution_count": 513,
   "id": "385eec10",
   "metadata": {},
   "outputs": [
    {
     "data": {
      "text/plain": [
       "array([39, 29, 43, 52, 39, 44, 40, 31, 44, 35])"
      ]
     },
     "execution_count": 513,
     "metadata": {},
     "output_type": "execute_result"
    }
   ],
   "source": [
    "df"
   ]
  },
  {
   "cell_type": "markdown",
   "id": "e80bd7f3",
   "metadata": {},
   "source": [
    "# Mean"
   ]
  },
  {
   "cell_type": "code",
   "execution_count": 514,
   "id": "f40f63b0",
   "metadata": {},
   "outputs": [],
   "source": [
    "# Calculate mean\n",
    "df_mean = np.mean(df)"
   ]
  },
  {
   "cell_type": "code",
   "execution_count": 515,
   "id": "660ea47e",
   "metadata": {},
   "outputs": [
    {
     "name": "stdout",
     "output_type": "stream",
     "text": [
      "The mean is : \n",
      " 39.6\n"
     ]
    }
   ],
   "source": [
    "print(\"The mean is : \\n\", df_mean)"
   ]
  },
  {
   "cell_type": "markdown",
   "id": "5e10095a",
   "metadata": {},
   "source": [
    "# Median"
   ]
  },
  {
   "cell_type": "code",
   "execution_count": 516,
   "id": "87fa9d8d",
   "metadata": {},
   "outputs": [],
   "source": [
    "# Calculate median\n",
    "df_median = np.median(df)"
   ]
  },
  {
   "cell_type": "code",
   "execution_count": 517,
   "id": "4489e05e",
   "metadata": {},
   "outputs": [
    {
     "name": "stdout",
     "output_type": "stream",
     "text": [
      "The median is : \n",
      " 39.5\n"
     ]
    }
   ],
   "source": [
    "print(\"The median is : \\n\", df_median)"
   ]
  },
  {
   "cell_type": "markdown",
   "id": "85cb1e74",
   "metadata": {},
   "source": [
    "# Mode"
   ]
  },
  {
   "cell_type": "markdown",
   "id": "a9123fc7",
   "metadata": {},
   "source": [
    "# It is the value that has the highest frequency in the given data set. The data set may have no mode if the frequency of all data points is the same. Also, we can have more than one mode if we encounter two or more data points having the same frequency."
   ]
  },
  {
   "cell_type": "code",
   "execution_count": 518,
   "id": "8d6d1cf3",
   "metadata": {},
   "outputs": [],
   "source": [
    "# Calculate mode\n",
    "df_mode = stats.mode(df)"
   ]
  },
  {
   "cell_type": "code",
   "execution_count": 519,
   "id": "0e7bf792",
   "metadata": {},
   "outputs": [
    {
     "name": "stdout",
     "output_type": "stream",
     "text": [
      "The mode is : \n",
      " ModeResult(mode=array([39]), count=array([2]))\n"
     ]
    }
   ],
   "source": [
    "print(\"The mode is : \\n\", df_mode)"
   ]
  },
  {
   "cell_type": "markdown",
   "id": "5e47670e",
   "metadata": {},
   "source": [
    "# Real dataset"
   ]
  },
  {
   "cell_type": "code",
   "execution_count": 520,
   "id": "36bfe6fc",
   "metadata": {},
   "outputs": [],
   "source": [
    "import pandas as pd\n",
    "data = pd.read_csv(r\"C:\\Users\\mk744\\Downloads\\documents\\datafiles\\Example.csv\")"
   ]
  },
  {
   "cell_type": "code",
   "execution_count": 521,
   "id": "e74f5fdb",
   "metadata": {},
   "outputs": [
    {
     "data": {
      "text/html": [
       "<div>\n",
       "<style scoped>\n",
       "    .dataframe tbody tr th:only-of-type {\n",
       "        vertical-align: middle;\n",
       "    }\n",
       "\n",
       "    .dataframe tbody tr th {\n",
       "        vertical-align: top;\n",
       "    }\n",
       "\n",
       "    .dataframe thead th {\n",
       "        text-align: right;\n",
       "    }\n",
       "</style>\n",
       "<table border=\"1\" class=\"dataframe\">\n",
       "  <thead>\n",
       "    <tr style=\"text-align: right;\">\n",
       "      <th></th>\n",
       "      <th>Satisfaction</th>\n",
       "      <th>Loyalty</th>\n",
       "    </tr>\n",
       "  </thead>\n",
       "  <tbody>\n",
       "    <tr>\n",
       "      <th>0</th>\n",
       "      <td>4</td>\n",
       "      <td>-1.33</td>\n",
       "    </tr>\n",
       "    <tr>\n",
       "      <th>1</th>\n",
       "      <td>6</td>\n",
       "      <td>-0.28</td>\n",
       "    </tr>\n",
       "    <tr>\n",
       "      <th>2</th>\n",
       "      <td>5</td>\n",
       "      <td>-0.99</td>\n",
       "    </tr>\n",
       "    <tr>\n",
       "      <th>3</th>\n",
       "      <td>7</td>\n",
       "      <td>-0.29</td>\n",
       "    </tr>\n",
       "    <tr>\n",
       "      <th>4</th>\n",
       "      <td>4</td>\n",
       "      <td>1.06</td>\n",
       "    </tr>\n",
       "    <tr>\n",
       "      <th>5</th>\n",
       "      <td>1</td>\n",
       "      <td>-1.66</td>\n",
       "    </tr>\n",
       "    <tr>\n",
       "      <th>6</th>\n",
       "      <td>10</td>\n",
       "      <td>-0.97</td>\n",
       "    </tr>\n",
       "    <tr>\n",
       "      <th>7</th>\n",
       "      <td>8</td>\n",
       "      <td>-0.32</td>\n",
       "    </tr>\n",
       "    <tr>\n",
       "      <th>8</th>\n",
       "      <td>8</td>\n",
       "      <td>1.02</td>\n",
       "    </tr>\n",
       "    <tr>\n",
       "      <th>9</th>\n",
       "      <td>8</td>\n",
       "      <td>0.68</td>\n",
       "    </tr>\n",
       "    <tr>\n",
       "      <th>10</th>\n",
       "      <td>10</td>\n",
       "      <td>-0.34</td>\n",
       "    </tr>\n",
       "    <tr>\n",
       "      <th>11</th>\n",
       "      <td>5</td>\n",
       "      <td>0.39</td>\n",
       "    </tr>\n",
       "    <tr>\n",
       "      <th>12</th>\n",
       "      <td>5</td>\n",
       "      <td>-1.69</td>\n",
       "    </tr>\n",
       "    <tr>\n",
       "      <th>13</th>\n",
       "      <td>2</td>\n",
       "      <td>0.67</td>\n",
       "    </tr>\n",
       "    <tr>\n",
       "      <th>14</th>\n",
       "      <td>7</td>\n",
       "      <td>0.27</td>\n",
       "    </tr>\n",
       "    <tr>\n",
       "      <th>15</th>\n",
       "      <td>9</td>\n",
       "      <td>1.36</td>\n",
       "    </tr>\n",
       "    <tr>\n",
       "      <th>16</th>\n",
       "      <td>8</td>\n",
       "      <td>1.38</td>\n",
       "    </tr>\n",
       "    <tr>\n",
       "      <th>17</th>\n",
       "      <td>7</td>\n",
       "      <td>1.36</td>\n",
       "    </tr>\n",
       "    <tr>\n",
       "      <th>18</th>\n",
       "      <td>7</td>\n",
       "      <td>-0.34</td>\n",
       "    </tr>\n",
       "    <tr>\n",
       "      <th>19</th>\n",
       "      <td>9</td>\n",
       "      <td>0.67</td>\n",
       "    </tr>\n",
       "    <tr>\n",
       "      <th>20</th>\n",
       "      <td>10</td>\n",
       "      <td>1.18</td>\n",
       "    </tr>\n",
       "    <tr>\n",
       "      <th>21</th>\n",
       "      <td>3</td>\n",
       "      <td>-1.69</td>\n",
       "    </tr>\n",
       "    <tr>\n",
       "      <th>22</th>\n",
       "      <td>4</td>\n",
       "      <td>1.04</td>\n",
       "    </tr>\n",
       "    <tr>\n",
       "      <th>23</th>\n",
       "      <td>3</td>\n",
       "      <td>-0.96</td>\n",
       "    </tr>\n",
       "    <tr>\n",
       "      <th>24</th>\n",
       "      <td>6</td>\n",
       "      <td>1.03</td>\n",
       "    </tr>\n",
       "    <tr>\n",
       "      <th>25</th>\n",
       "      <td>9</td>\n",
       "      <td>-0.99</td>\n",
       "    </tr>\n",
       "    <tr>\n",
       "      <th>26</th>\n",
       "      <td>10</td>\n",
       "      <td>0.37</td>\n",
       "    </tr>\n",
       "    <tr>\n",
       "      <th>27</th>\n",
       "      <td>9</td>\n",
       "      <td>0.03</td>\n",
       "    </tr>\n",
       "    <tr>\n",
       "      <th>28</th>\n",
       "      <td>3</td>\n",
       "      <td>-1.36</td>\n",
       "    </tr>\n",
       "    <tr>\n",
       "      <th>29</th>\n",
       "      <td>5</td>\n",
       "      <td>0.73</td>\n",
       "    </tr>\n",
       "  </tbody>\n",
       "</table>\n",
       "</div>"
      ],
      "text/plain": [
       "    Satisfaction  Loyalty\n",
       "0              4    -1.33\n",
       "1              6    -0.28\n",
       "2              5    -0.99\n",
       "3              7    -0.29\n",
       "4              4     1.06\n",
       "5              1    -1.66\n",
       "6             10    -0.97\n",
       "7              8    -0.32\n",
       "8              8     1.02\n",
       "9              8     0.68\n",
       "10            10    -0.34\n",
       "11             5     0.39\n",
       "12             5    -1.69\n",
       "13             2     0.67\n",
       "14             7     0.27\n",
       "15             9     1.36\n",
       "16             8     1.38\n",
       "17             7     1.36\n",
       "18             7    -0.34\n",
       "19             9     0.67\n",
       "20            10     1.18\n",
       "21             3    -1.69\n",
       "22             4     1.04\n",
       "23             3    -0.96\n",
       "24             6     1.03\n",
       "25             9    -0.99\n",
       "26            10     0.37\n",
       "27             9     0.03\n",
       "28             3    -1.36\n",
       "29             5     0.73"
      ]
     },
     "execution_count": 521,
     "metadata": {},
     "output_type": "execute_result"
    }
   ],
   "source": [
    "data"
   ]
  },
  {
   "cell_type": "markdown",
   "id": "db2f43fe",
   "metadata": {},
   "source": [
    "# Find the mean of Satisfaction attributes"
   ]
  },
  {
   "cell_type": "code",
   "execution_count": 522,
   "id": "225309d7",
   "metadata": {},
   "outputs": [],
   "source": [
    "data_mean = np.mean(data['Satisfaction'])"
   ]
  },
  {
   "cell_type": "code",
   "execution_count": 523,
   "id": "457862c1",
   "metadata": {},
   "outputs": [
    {
     "name": "stdout",
     "output_type": "stream",
     "text": [
      "The mean of Satisfaction is given : \n",
      " 6.4\n"
     ]
    }
   ],
   "source": [
    "print(\"The mean of Satisfaction is given : \\n\", data_mean)"
   ]
  },
  {
   "cell_type": "markdown",
   "id": "ca21bf7f",
   "metadata": {},
   "source": [
    "# Find the mean of Loyality attributes"
   ]
  },
  {
   "cell_type": "code",
   "execution_count": 524,
   "id": "ae961139",
   "metadata": {},
   "outputs": [],
   "source": [
    "data_mean_1 = np.mean(data['Loyalty'])"
   ]
  },
  {
   "cell_type": "code",
   "execution_count": 525,
   "id": "1901fbd8",
   "metadata": {},
   "outputs": [
    {
     "name": "stdout",
     "output_type": "stream",
     "text": [
      "The mean of Loyalty is given :\n",
      " 0.001\n"
     ]
    }
   ],
   "source": [
    "print(\"The mean of Loyalty is given :\\n %.3f\"  %data_mean_1)"
   ]
  },
  {
   "cell_type": "markdown",
   "id": "27c37687",
   "metadata": {},
   "source": [
    "# Find the median of Satisfaction attributes"
   ]
  },
  {
   "cell_type": "code",
   "execution_count": 526,
   "id": "46d923f1",
   "metadata": {},
   "outputs": [],
   "source": [
    "data_median = np.median(data['Satisfaction'])"
   ]
  },
  {
   "cell_type": "code",
   "execution_count": 527,
   "id": "8dc4dc1d",
   "metadata": {},
   "outputs": [
    {
     "name": "stdout",
     "output_type": "stream",
     "text": [
      "The median of Satisfaction is given by : \n",
      " 7.0\n"
     ]
    }
   ],
   "source": [
    "print(\"The median of Satisfaction is given by : \\n\", data_median)"
   ]
  },
  {
   "cell_type": "markdown",
   "id": "47515f97",
   "metadata": {},
   "source": [
    "# Find the median of Loyalty attributes"
   ]
  },
  {
   "cell_type": "code",
   "execution_count": 528,
   "id": "9c809b78",
   "metadata": {},
   "outputs": [],
   "source": [
    "data_median_1 = np.median(data['Loyalty'])"
   ]
  },
  {
   "cell_type": "code",
   "execution_count": 529,
   "id": "7516ad2c",
   "metadata": {},
   "outputs": [
    {
     "name": "stdout",
     "output_type": "stream",
     "text": [
      "The median of Loyalty is given by : \n",
      " 0.150\n"
     ]
    }
   ],
   "source": [
    "print(\"The median of Loyalty is given by : \\n %.3f\" %data_median_1)"
   ]
  },
  {
   "cell_type": "markdown",
   "id": "75ca87c9",
   "metadata": {},
   "source": [
    "# Find the mode of Satisfaction attributes"
   ]
  },
  {
   "cell_type": "code",
   "execution_count": 530,
   "id": "c25653c8",
   "metadata": {},
   "outputs": [],
   "source": [
    "data_mode = stats.mode(data['Satisfaction'])"
   ]
  },
  {
   "cell_type": "code",
   "execution_count": 531,
   "id": "d5a7e63a",
   "metadata": {},
   "outputs": [
    {
     "name": "stdout",
     "output_type": "stream",
     "text": [
      "The mode of Satisfaction is given by : \n",
      " ModeResult(mode=array([5], dtype=int64), count=array([4]))\n"
     ]
    }
   ],
   "source": [
    "print(\"The mode of Satisfaction is given by : \\n\", data_mode)"
   ]
  },
  {
   "cell_type": "markdown",
   "id": "48fdd6bb",
   "metadata": {},
   "source": [
    "# Find the mode of Loyalty attributes"
   ]
  },
  {
   "cell_type": "code",
   "execution_count": 532,
   "id": "5a358ff1",
   "metadata": {},
   "outputs": [],
   "source": [
    "data_mode_1 = stats.mode(data['Loyalty'])"
   ]
  },
  {
   "cell_type": "code",
   "execution_count": 533,
   "id": "a855492f",
   "metadata": {},
   "outputs": [
    {
     "name": "stdout",
     "output_type": "stream",
     "text": [
      "The mode of Loyalty is given by : \n",
      " ModeResult(mode=array([-1.69]), count=array([2]))\n"
     ]
    }
   ],
   "source": [
    "print(\"The mode of Loyalty is given by : \\n\", data_mode_1)"
   ]
  },
  {
   "cell_type": "markdown",
   "id": "c9d4da7d",
   "metadata": {},
   "source": [
    "# Variation and Shape"
   ]
  },
  {
   "cell_type": "markdown",
   "id": "cd6a29e5",
   "metadata": {},
   "source": [
    "# Range\n",
    "<!-- The range describes the difference between the largest and smallest data point in our data set. The bigger the range, the more the spread of data and vice versa. -->"
   ]
  },
  {
   "cell_type": "markdown",
   "id": "4ccbd92e",
   "metadata": {},
   "source": [
    "# The range describes the difference between the largest and smallest data point in our data set. The bigger the range, the more the spread of data and vice versa."
   ]
  },
  {
   "cell_type": "code",
   "execution_count": 534,
   "id": "cc16ab15",
   "metadata": {},
   "outputs": [],
   "source": [
    "Maximum = max(df)\n",
    "Minimum = min(df)"
   ]
  },
  {
   "cell_type": "markdown",
   "id": "2fec0a03",
   "metadata": {},
   "source": [
    "# Calculate Range"
   ]
  },
  {
   "cell_type": "code",
   "execution_count": 535,
   "id": "6c1e2f26",
   "metadata": {},
   "outputs": [],
   "source": [
    "Range = Maximum - Minimum "
   ]
  },
  {
   "cell_type": "code",
   "execution_count": 536,
   "id": "4626be21",
   "metadata": {},
   "outputs": [
    {
     "name": "stdout",
     "output_type": "stream",
     "text": [
      "Maximum = 52 , Minimum = 29, Range = 23\n"
     ]
    }
   ],
   "source": [
    "print(\"Maximum = {} , Minimum = {}, Range = {}\".format(Maximum, Minimum, Range))"
   ]
  },
  {
   "cell_type": "markdown",
   "id": "4ff2142c",
   "metadata": {},
   "source": [
    "# Using Data set"
   ]
  },
  {
   "cell_type": "code",
   "execution_count": 537,
   "id": "b5077a63",
   "metadata": {},
   "outputs": [],
   "source": [
    "Maxi = max(data['Satisfaction'])\n",
    "Mini = min(data['Satisfaction'])"
   ]
  },
  {
   "cell_type": "markdown",
   "id": "35a7ffd1",
   "metadata": {},
   "source": [
    "# Calculate Range"
   ]
  },
  {
   "cell_type": "code",
   "execution_count": 538,
   "id": "3eac0d24",
   "metadata": {},
   "outputs": [],
   "source": [
    "Ranges = Maxi - Mini"
   ]
  },
  {
   "cell_type": "code",
   "execution_count": 539,
   "id": "4162631e",
   "metadata": {},
   "outputs": [
    {
     "name": "stdout",
     "output_type": "stream",
     "text": [
      "Maxi = 10, Mini = 1, Ranges = 9\n"
     ]
    }
   ],
   "source": [
    "print(\"Maxi = {}, Mini = {}, Ranges = {}\".format(Maxi, Mini, Ranges))"
   ]
  },
  {
   "cell_type": "markdown",
   "id": "28c5fb47",
   "metadata": {},
   "source": [
    "# Find Range"
   ]
  },
  {
   "cell_type": "code",
   "execution_count": 540,
   "id": "930c17f1",
   "metadata": {},
   "outputs": [],
   "source": [
    "dataset = np.array([29, 31, 35, 39, 40, 43, 44, 44, 52])"
   ]
  },
  {
   "cell_type": "code",
   "execution_count": 541,
   "id": "f76963d8",
   "metadata": {},
   "outputs": [
    {
     "data": {
      "text/plain": [
       "array([29, 31, 35, 39, 40, 43, 44, 44, 52])"
      ]
     },
     "execution_count": 541,
     "metadata": {},
     "output_type": "execute_result"
    }
   ],
   "source": [
    "dataset"
   ]
  },
  {
   "cell_type": "code",
   "execution_count": 542,
   "id": "94181d97",
   "metadata": {},
   "outputs": [],
   "source": [
    "MAXI = max(dataset)\n",
    "MINI = min(dataset)"
   ]
  },
  {
   "cell_type": "code",
   "execution_count": 543,
   "id": "545ca1df",
   "metadata": {},
   "outputs": [],
   "source": [
    "RANGE = MAXI - MINI"
   ]
  },
  {
   "cell_type": "code",
   "execution_count": 544,
   "id": "68014f51",
   "metadata": {},
   "outputs": [
    {
     "name": "stdout",
     "output_type": "stream",
     "text": [
      "MAXI = 52, MINI = 29, RANGE = 23\n"
     ]
    }
   ],
   "source": [
    "print(\"MAXI = {}, MINI = {}, RANGE = {}\".format(MAXI, MINI, RANGE))"
   ]
  },
  {
   "cell_type": "markdown",
   "id": "ea816e13",
   "metadata": {},
   "source": [
    "# Variance"
   ]
  },
  {
   "cell_type": "code",
   "execution_count": 545,
   "id": "7eddca90",
   "metadata": {},
   "outputs": [],
   "source": [
    "import statistics"
   ]
  },
  {
   "cell_type": "code",
   "execution_count": 546,
   "id": "b295bfe4",
   "metadata": {},
   "outputs": [
    {
     "name": "stdout",
     "output_type": "stream",
     "text": [
      "Var =  51\n"
     ]
    }
   ],
   "source": [
    "print(\"Var = \", (statistics.variance(dataset) ))"
   ]
  },
  {
   "cell_type": "code",
   "execution_count": 547,
   "id": "c317b383",
   "metadata": {},
   "outputs": [
    {
     "name": "stdout",
     "output_type": "stream",
     "text": [
      "Variance =  45\n"
     ]
    }
   ],
   "source": [
    "print(\"Variance = \", (statistics.variance(df)))"
   ]
  },
  {
   "cell_type": "code",
   "execution_count": 548,
   "id": "0fb00423",
   "metadata": {},
   "outputs": [
    {
     "name": "stdout",
     "output_type": "stream",
     "text": [
      "Variance =  6.868965517241379\n"
     ]
    }
   ],
   "source": [
    "print(\"Variance = \", (statistics.variance(data['Satisfaction'])))"
   ]
  },
  {
   "cell_type": "code",
   "execution_count": 549,
   "id": "7b4bdbae",
   "metadata": {},
   "outputs": [
    {
     "name": "stdout",
     "output_type": "stream",
     "text": [
      "Variance =  1.033223103448276\n"
     ]
    }
   ],
   "source": [
    "print(\"Variance = \", (statistics.variance(data['Loyalty'])))"
   ]
  },
  {
   "cell_type": "markdown",
   "id": "71639bbe",
   "metadata": {},
   "source": [
    "# Std"
   ]
  },
  {
   "cell_type": "code",
   "execution_count": 550,
   "id": "ca539c95",
   "metadata": {},
   "outputs": [
    {
     "name": "stdout",
     "output_type": "stream",
     "text": [
      "Std =  2.620871137091898\n"
     ]
    }
   ],
   "source": [
    "Var =  (statistics.stdev(data['Satisfaction']))\n",
    "print(\"Std = \", Var)"
   ]
  },
  {
   "cell_type": "code",
   "execution_count": 551,
   "id": "f57aa54f",
   "metadata": {},
   "outputs": [
    {
     "name": "stdout",
     "output_type": "stream",
     "text": [
      "Std =  1.0164758253142452\n"
     ]
    }
   ],
   "source": [
    "Var_1 = (statistics.stdev(data['Loyalty']))\n",
    "print(\"Std = \", Var_1)"
   ]
  },
  {
   "cell_type": "markdown",
   "id": "3a3d190a",
   "metadata": {},
   "source": [
    "# Coefficient of Variation of Satisfaction"
   ]
  },
  {
   "cell_type": "code",
   "execution_count": 552,
   "id": "11c5c49a",
   "metadata": {},
   "outputs": [],
   "source": [
    "coefficient_of_Var = (Var/data_mean)*100"
   ]
  },
  {
   "cell_type": "code",
   "execution_count": 553,
   "id": "4e08274c",
   "metadata": {},
   "outputs": [
    {
     "name": "stdout",
     "output_type": "stream",
     "text": [
      "The coefficient of variation :  40.95%\n"
     ]
    }
   ],
   "source": [
    "print(f\"The coefficient of variation : {coefficient_of_Var : .2f}%\")"
   ]
  },
  {
   "cell_type": "markdown",
   "id": "fa3fb156",
   "metadata": {},
   "source": [
    "# Coefficient of Variation of Loyality"
   ]
  },
  {
   "cell_type": "code",
   "execution_count": 554,
   "id": "d132d84d",
   "metadata": {},
   "outputs": [],
   "source": [
    "Coefficient_of_Var = (Var_1 / data_mean_1) * 100"
   ]
  },
  {
   "cell_type": "code",
   "execution_count": 555,
   "id": "512f52f2",
   "metadata": {},
   "outputs": [
    {
     "name": "stdout",
     "output_type": "stream",
     "text": [
      "The coefficient of variation :  101647.58%\n"
     ]
    }
   ],
   "source": [
    "print(f\"The coefficient of variation : {Coefficient_of_Var : .2f}%\")"
   ]
  },
  {
   "cell_type": "markdown",
   "id": "03294614",
   "metadata": {},
   "source": [
    "# Z-Score:=> It is used to find the outliers in the given dataset, if the Z-Score is -3.0 and +3.0 then it is indicating there is an outliers present in the dataset"
   ]
  },
  {
   "cell_type": "code",
   "execution_count": 556,
   "id": "1f9b81af",
   "metadata": {},
   "outputs": [
    {
     "data": {
      "text/plain": [
       "array([39, 29, 43, 52, 39, 44, 40, 31, 44, 35])"
      ]
     },
     "execution_count": 556,
     "metadata": {},
     "output_type": "execute_result"
    }
   ],
   "source": [
    "# Find the z score of the given data\n",
    "df"
   ]
  },
  {
   "cell_type": "code",
   "execution_count": 557,
   "id": "dd98d11f",
   "metadata": {},
   "outputs": [
    {
     "name": "stdout",
     "output_type": "stream",
     "text": [
      "Std dev =  6.708203932499369\n"
     ]
    }
   ],
   "source": [
    "Std_dev = (statistics.stdev(df))\n",
    "print(\"Std dev = \", Std_dev)"
   ]
  },
  {
   "cell_type": "code",
   "execution_count": 558,
   "id": "d08eb27e",
   "metadata": {},
   "outputs": [],
   "source": [
    "X1 = 39"
   ]
  },
  {
   "cell_type": "code",
   "execution_count": 559,
   "id": "e7b14e15",
   "metadata": {},
   "outputs": [
    {
     "name": "stdout",
     "output_type": "stream",
     "text": [
      "The Z-Score : -0.09%\n"
     ]
    }
   ],
   "source": [
    "Z_Score = (X1 - df_mean) / Std_dev\n",
    "print(f\"The Z-Score : {Z_Score : .2f}%\")"
   ]
  },
  {
   "cell_type": "code",
   "execution_count": 560,
   "id": "254ffc89",
   "metadata": {},
   "outputs": [
    {
     "name": "stdout",
     "output_type": "stream",
     "text": [
      "The Z-Score : -1.58%\n"
     ]
    }
   ],
   "source": [
    "X2 = 29\n",
    "Z_Score_1 = (X2 - df_mean) / Std_dev\n",
    "print(f\"The Z-Score : {Z_Score_1 : .2f}%\")"
   ]
  },
  {
   "cell_type": "code",
   "execution_count": 561,
   "id": "7a8eb7c8",
   "metadata": {},
   "outputs": [
    {
     "name": "stdout",
     "output_type": "stream",
     "text": [
      "The Z-Score :  0.51%\n"
     ]
    }
   ],
   "source": [
    "X3 = 43\n",
    "Z_Score_3 = (X3 - df_mean)/Std_dev\n",
    "print(f\"The Z-Score : {Z_Score_3 : .2f}%\")"
   ]
  },
  {
   "cell_type": "markdown",
   "id": "7c96cac4",
   "metadata": {},
   "source": [
    "# Using Real Dataset"
   ]
  },
  {
   "cell_type": "code",
   "execution_count": 562,
   "id": "537ca196",
   "metadata": {},
   "outputs": [
    {
     "data": {
      "text/html": [
       "<div>\n",
       "<style scoped>\n",
       "    .dataframe tbody tr th:only-of-type {\n",
       "        vertical-align: middle;\n",
       "    }\n",
       "\n",
       "    .dataframe tbody tr th {\n",
       "        vertical-align: top;\n",
       "    }\n",
       "\n",
       "    .dataframe thead th {\n",
       "        text-align: right;\n",
       "    }\n",
       "</style>\n",
       "<table border=\"1\" class=\"dataframe\">\n",
       "  <thead>\n",
       "    <tr style=\"text-align: right;\">\n",
       "      <th></th>\n",
       "      <th>year</th>\n",
       "      <th>month</th>\n",
       "      <th>day</th>\n",
       "      <th>gender</th>\n",
       "      <th>births</th>\n",
       "    </tr>\n",
       "  </thead>\n",
       "  <tbody>\n",
       "    <tr>\n",
       "      <th>0</th>\n",
       "      <td>1969</td>\n",
       "      <td>1</td>\n",
       "      <td>1.0</td>\n",
       "      <td>F</td>\n",
       "      <td>4046</td>\n",
       "    </tr>\n",
       "    <tr>\n",
       "      <th>1</th>\n",
       "      <td>1969</td>\n",
       "      <td>1</td>\n",
       "      <td>1.0</td>\n",
       "      <td>M</td>\n",
       "      <td>4440</td>\n",
       "    </tr>\n",
       "    <tr>\n",
       "      <th>2</th>\n",
       "      <td>1969</td>\n",
       "      <td>1</td>\n",
       "      <td>2.0</td>\n",
       "      <td>F</td>\n",
       "      <td>4454</td>\n",
       "    </tr>\n",
       "    <tr>\n",
       "      <th>3</th>\n",
       "      <td>1969</td>\n",
       "      <td>1</td>\n",
       "      <td>2.0</td>\n",
       "      <td>M</td>\n",
       "      <td>4548</td>\n",
       "    </tr>\n",
       "    <tr>\n",
       "      <th>4</th>\n",
       "      <td>1969</td>\n",
       "      <td>1</td>\n",
       "      <td>3.0</td>\n",
       "      <td>F</td>\n",
       "      <td>4548</td>\n",
       "    </tr>\n",
       "  </tbody>\n",
       "</table>\n",
       "</div>"
      ],
      "text/plain": [
       "   year  month  day gender  births\n",
       "0  1969      1  1.0      F    4046\n",
       "1  1969      1  1.0      M    4440\n",
       "2  1969      1  2.0      F    4454\n",
       "3  1969      1  2.0      M    4548\n",
       "4  1969      1  3.0      F    4548"
      ]
     },
     "execution_count": 562,
     "metadata": {},
     "output_type": "execute_result"
    }
   ],
   "source": [
    "OUTLIERS = pd.read_csv(r\"C:\\Users\\mk744\\Downloads\\documents\\datafiles\\birth.csv\")\n",
    "OUTLIERS.head()\n"
   ]
  },
  {
   "cell_type": "code",
   "execution_count": 563,
   "id": "916a4cf5",
   "metadata": {},
   "outputs": [
    {
     "data": {
      "text/plain": [
       "year        int64\n",
       "month       int64\n",
       "day       float64\n",
       "gender     object\n",
       "births      int64\n",
       "dtype: object"
      ]
     },
     "execution_count": 563,
     "metadata": {},
     "output_type": "execute_result"
    }
   ],
   "source": [
    "OUTLIERS.dtypes"
   ]
  },
  {
   "cell_type": "markdown",
   "id": "60fdaecd",
   "metadata": {},
   "source": [
    "#  Outliers in the \"year\" Columns"
   ]
  },
  {
   "cell_type": "code",
   "execution_count": 564,
   "id": "c2da9ec5",
   "metadata": {},
   "outputs": [
    {
     "name": "stdout",
     "output_type": "stream",
     "text": [
      "Outliers: [2000, 2000, 2000, 2000, 2000, 2000, 2000, 2000, 2000, 2000, 2000, 2000, 2000, 2000, 2000, 2000, 2000, 2000, 2000, 2000, 2000, 2000, 2000, 2000, 2001, 2001, 2001, 2001, 2001, 2001, 2001, 2001, 2001, 2001, 2001, 2001, 2001, 2001, 2001, 2001, 2001, 2001, 2001, 2001, 2001, 2001, 2001, 2001, 2002, 2002, 2002, 2002, 2002, 2002, 2002, 2002, 2002, 2002, 2002, 2002, 2002, 2002, 2002, 2002, 2002, 2002, 2002, 2002, 2002, 2002, 2002, 2002, 2003, 2003, 2003, 2003, 2003, 2003, 2003, 2003, 2003, 2003, 2003, 2003, 2003, 2003, 2003, 2003, 2003, 2003, 2003, 2003, 2003, 2003, 2003, 2003, 2004, 2004, 2004, 2004, 2004, 2004, 2004, 2004, 2004, 2004, 2004, 2004, 2004, 2004, 2004, 2004, 2004, 2004, 2004, 2004, 2004, 2004, 2004, 2004, 2005, 2005, 2005, 2005, 2005, 2005, 2005, 2005, 2005, 2005, 2005, 2005, 2005, 2005, 2005, 2005, 2005, 2005, 2005, 2005, 2005, 2005, 2005, 2005, 2006, 2006, 2006, 2006, 2006, 2006, 2006, 2006, 2006, 2006, 2006, 2006, 2006, 2006, 2006, 2006, 2006, 2006, 2006, 2006, 2006, 2006, 2006, 2006, 2007, 2007, 2007, 2007, 2007, 2007, 2007, 2007, 2007, 2007, 2007, 2007, 2007, 2007, 2007, 2007, 2007, 2007, 2007, 2007, 2007, 2007, 2007, 2007, 2008, 2008, 2008, 2008, 2008, 2008, 2008, 2008, 2008, 2008, 2008, 2008, 2008, 2008, 2008, 2008, 2008, 2008, 2008, 2008, 2008, 2008, 2008, 2008]\n"
     ]
    }
   ],
   "source": [
    "out=[]\n",
    "def Zscore_outlier(dbase):\n",
    "    m = np.mean(dbase)\n",
    "    sd = np.std(dbase)\n",
    "    for i in dbase: \n",
    "        z = (i-m)/sd\n",
    "        if np.abs(z) > 3: \n",
    "            out.append(i)\n",
    "    print(\"Outliers:\",out)\n",
    "Zscore_outlier(OUTLIERS['year'])"
   ]
  },
  {
   "cell_type": "markdown",
   "id": "2d9a573b",
   "metadata": {},
   "source": [
    "#  Outliers in the \"month\" columns"
   ]
  },
  {
   "cell_type": "code",
   "execution_count": 565,
   "id": "4fc85134",
   "metadata": {},
   "outputs": [
    {
     "name": "stdout",
     "output_type": "stream",
     "text": [
      "Outliers: []\n"
     ]
    }
   ],
   "source": [
    "out = []\n",
    "def Z_Score_Outliers(demo):\n",
    "    mean_value = np.mean(demo)\n",
    "    std_dev = np.std(demo)\n",
    "    for i in demo:\n",
    "        Z_Score = (i - mean_value) / std_dev\n",
    "        if np.abs(Z_Score) > 3:\n",
    "            out.append(i)\n",
    "    print(\"Outliers:\", out)\n",
    "Z_Score_Outliers(OUTLIERS['month'])"
   ]
  },
  {
   "cell_type": "markdown",
   "id": "c44eb94e",
   "metadata": {},
   "source": [
    "# Outliers in the \"day\" columns"
   ]
  },
  {
   "cell_type": "code",
   "execution_count": 566,
   "id": "d9585017",
   "metadata": {},
   "outputs": [
    {
     "name": "stdout",
     "output_type": "stream",
     "text": [
      "Outliers: [99.0, 99.0, 99.0, 99.0, 99.0, 99.0, 99.0, 99.0, 99.0, 99.0, 99.0, 99.0, 99.0, 99.0, 99.0, 99.0, 99.0, 99.0, 99.0, 99.0, 99.0, 99.0, 99.0, 99.0, 99.0, 99.0, 99.0, 99.0, 99.0, 99.0, 99.0, 99.0, 99.0, 99.0, 99.0, 99.0, 99.0, 99.0, 99.0, 99.0, 99.0, 99.0, 99.0, 99.0, 99.0, 99.0, 99.0, 99.0, 99.0, 99.0, 99.0, 99.0, 99.0, 99.0, 99.0, 99.0, 99.0, 99.0, 99.0, 99.0, 99.0, 99.0, 99.0, 99.0, 99.0, 99.0, 99.0, 99.0, 99.0, 99.0, 99.0, 99.0, 99.0, 99.0, 99.0, 99.0, 99.0, 99.0, 99.0, 99.0, 99.0, 99.0, 99.0, 99.0, 99.0, 99.0, 99.0, 99.0, 99.0, 99.0, 99.0, 99.0, 99.0, 99.0, 99.0, 99.0, 99.0, 99.0, 99.0, 99.0, 99.0, 99.0, 99.0, 99.0, 99.0, 99.0, 99.0, 99.0, 99.0, 99.0, 99.0, 99.0, 99.0, 99.0, 99.0, 99.0, 99.0, 99.0, 99.0, 99.0, 99.0, 99.0, 99.0, 99.0, 99.0, 99.0, 99.0, 99.0, 99.0, 99.0, 99.0, 99.0, 99.0, 99.0, 99.0, 99.0, 99.0, 99.0, 99.0, 99.0, 99.0, 99.0, 99.0, 99.0, 99.0, 99.0, 99.0, 99.0, 99.0, 99.0, 99.0, 99.0, 99.0, 99.0, 99.0, 99.0, 99.0, 99.0, 99.0, 99.0, 99.0, 99.0, 99.0, 99.0, 99.0, 99.0, 99.0, 99.0, 99.0, 99.0, 99.0, 99.0, 99.0, 99.0, 99.0, 99.0, 99.0, 99.0, 99.0, 99.0, 99.0, 99.0, 99.0, 99.0, 99.0, 99.0, 99.0, 99.0, 99.0, 99.0, 99.0, 99.0, 99.0, 99.0, 99.0, 99.0, 99.0, 99.0, 99.0, 99.0, 99.0, 99.0, 99.0, 99.0, 99.0, 99.0, 99.0, 99.0, 99.0, 99.0, 99.0, 99.0, 99.0, 99.0, 99.0, 99.0, 99.0, 99.0, 99.0, 99.0, 99.0, 99.0, 99.0, 99.0, 99.0, 99.0, 99.0, 99.0, 99.0, 99.0, 99.0, 99.0, 99.0, 99.0, 99.0, 99.0, 99.0, 99.0, 99.0, 99.0, 99.0, 99.0, 99.0, 99.0, 99.0, 99.0, 99.0, 99.0, 99.0, 99.0, 99.0, 99.0, 99.0, 99.0, 99.0, 99.0, 99.0, 99.0, 99.0, 99.0, 99.0, 99.0, 99.0, 99.0, 99.0, 99.0, 99.0, 99.0, 99.0, 99.0, 99.0, 99.0, 99.0, 99.0, 99.0, 99.0, 99.0, 99.0, 99.0, 99.0, 99.0, 99.0, 99.0, 99.0, 99.0, 99.0, 99.0, 99.0, 99.0, 99.0, 99.0, 99.0, 99.0, 99.0, 99.0, 99.0, 99.0, 99.0, 99.0, 99.0, 99.0, 99.0, 99.0, 99.0, 99.0, 99.0, 99.0, 99.0, 99.0, 99.0, 99.0, 99.0, 99.0, 99.0, 99.0, 99.0, 99.0, 99.0, 99.0, 99.0, 99.0, 99.0, 99.0, 99.0, 99.0, 99.0, 99.0, 99.0, 99.0, 99.0, 99.0, 99.0, 99.0, 99.0, 99.0, 99.0, 99.0, 99.0, 99.0, 99.0, 99.0, 99.0, 99.0, 99.0, 99.0, 99.0, 99.0, 99.0, 99.0, 99.0]\n"
     ]
    }
   ],
   "source": [
    "out = []\n",
    "def Z_Score_Outliers(demo):\n",
    "    mean_value = np.mean(demo)\n",
    "    std_dev = np.std(demo)\n",
    "    for i in demo:\n",
    "        Z_Score = (i - mean_value) / std_dev\n",
    "        if np.abs(Z_Score) > 3:\n",
    "            out.append(i)\n",
    "    print(\"Outliers:\", out)\n",
    "Z_Score_Outliers(OUTLIERS['day'])"
   ]
  },
  {
   "cell_type": "markdown",
   "id": "cf0e18f7",
   "metadata": {},
   "source": [
    "# Outliers in the \"births\" columns"
   ]
  },
  {
   "cell_type": "code",
   "execution_count": 567,
   "id": "71a54c81",
   "metadata": {},
   "outputs": [
    {
     "name": "stdout",
     "output_type": "stream",
     "text": [
      "Outliers: [156749, 164052, 146710, 154047, 165889, 174433, 155689, 163432, 163800, 172892, 165525, 173823, 174054, 183063, 178986, 188074, 174808, 182962, 168303, 176258, 159013, 166923, 164186, 172022, 163576, 172073, 153015, 159915, 171463, 179499, 164469, 172275, 173127, 181366, 168941, 178799, 179270, 188837, 181845, 191101, 175292, 183840, 172365, 181247, 163036, 170515, 164567, 172484, 164305, 171198, 151260, 158163, 167751, 176650, 163778, 172218, 172728, 180764, 163048, 171594, 177698, 185629, 179729, 187491, 174362, 181999, 171490, 177890, 158692, 165320, 166760, 174825, 162874, 171502, 154333, 161410, 165468, 174389, 162792, 170879, 167941, 176584, 165818, 174250, 175090, 184407, 171095, 178271, 169543, 178412, 167907, 176076, 157342, 164949, 164915, 173181, 157524, 165896, 148569, 156378, 167013, 175505, 159698, 167674, 163377, 172991, 163769, 171934, 171888, 181061, 171785, 179521, 170167, 178232, 162794, 170519, 154679, 162072, 162193, 169284, 157015, 163982, 147453, 154175, 165797, 174281, 154935, 162778, 160679, 169921, 160576, 169510, 168646, 177579, 172383, 180197, 166020, 173600, 162185, 168356, 156514, 163252, 160031, 167060, 154538, 161749, 144485, 150879, 160096, 168678, 150914, 158447, 162601, 172235, 160527, 169557, 166814, 174366, 171158, 179864, 165661, 173746, 162008, 168303, 151949, 159181, 154120, 161136, 153564, 161007, 147336, 154683, 157536, 165311, 152624, 160256, 158983, 167020, 155502, 163267, 168423, 177043, 169237, 177393, 165338, 171299, 164939, 171717, 151621, 158058, 157561, 165156, 155408, 162091, 142259, 149536, 157335, 164148, 153524, 160935, 161304, 169296, 156734, 165435, 169391, 177423, 165928, 173528, 162975, 170937, 160645, 168306, 150194, 157395, 161231, 168371, 155671, 163902, 146310, 152641, 161291, 168419, 156178, 163853, 161543, 169221, 159207, 168175, 170376, 178616, 168353, 176747, 168502, 175254, 162998, 170140, 153386, 160161, 163291, 170957, 156054, 163440, 145172, 152660, 162648, 170574, 154150, 163007, 160124, 168682, 162255, 170261, 170905, 179321, 171718, 180033, 170699, 179124, 163347, 170004, 154605, 161062, 162833, 170787, 161288, 169225, 154694, 162997, 166124, 174808, 155038, 162495, 166443, 175161, 166358, 175247, 170327, 179102, 176508, 184030, 170411, 177693, 168039, 176350, 164086, 170206, 164939, 172254, 164404, 171208, 148640, 155259, 165359, 173729, 158235, 165804, 167878, 176615, 161947, 169590, 172082, 179504, 177031, 185351, 167748, 175338, 168515, 176084, 158581, 165633, 160350, 166646, 161477, 169612, 148745, 155627, 162351, 169543, 158674, 166175, 165530, 173925, 159792, 168261, 175085, 183135, 175501, 184444, 170451, 178945, 169482, 176842, 155849, 163200, 163582, 171148, 161200, 169104, 150278, 157384, 164318, 173100, 161431, 169158, 169450, 177775, 164323, 173621, 177755, 187045, 175697, 184986, 176270, 183928, 173659, 180924, 156860, 163757, 168146, 175923, 162630, 170778, 154712, 161598, 168958, 177896, 162918, 170940, 164266, 173902, 169006, 176392, 175457, 184593, 173980, 182095, 173996, 182707, 170816, 178294, 164364, 171945, 169607, 177057, 162360, 169670, 151342, 158754, 170000, 179881, 161982, 171045, 168949, 177881, 171467, 179979, 174639, 183061, 180446, 189599, 177973, 186141, 168795, 176498, 164606, 171703, 170333, 178515, 166706, 174193, 156281, 163564, 173924, 183436, 161054, 169341, 173374, 182689, 175037, 183860, 179507, 189126, 189539, 198942, 183523, 191866, 179938, 188122, 171819, 180670, 174255, 182459, 173771, 181789, 159887, 167507, 176426, 184984, 165121, 173674, 176902, 186016, 174757, 184468, 185221, 195135, 191495, 199622, 180098, 187526, 180912, 189157, 173513, 180814, 173787, 181426, 174255, 182789, 165669, 173434, 172053, 179129, 169585, 177399, 173141, 182294, 169958, 179267, 183391, 192714, 182713, 191315, 179696, 188964, 175314, 183219, 158939, 165468, 173215, 181235]\n"
     ]
    }
   ],
   "source": [
    "out = []\n",
    "def Z_Score_Outliers(demo):\n",
    "    mean_value = np.mean(demo)\n",
    "    std_dev = np.std(demo)\n",
    "    for i in demo:\n",
    "        Z_Score = (i - mean_value) / std_dev\n",
    "        if np.abs(Z_Score) > 3:\n",
    "            out.append(i)\n",
    "    print(\"Outliers:\", out)\n",
    "Z_Score_Outliers(OUTLIERS['births'])"
   ]
  },
  {
   "cell_type": "markdown",
   "id": "ae2588f9",
   "metadata": {},
   "source": [
    "# Visualize the outliers, Data visualization is useful for data cleaning, exploring data, detecting outliers identifying trends and clusters"
   ]
  },
  {
   "cell_type": "code",
   "execution_count": 568,
   "id": "bcffdce2",
   "metadata": {},
   "outputs": [],
   "source": [
    "# Importing libraries\n",
    "import pandas as pd\n",
    "import seaborn as sns\n",
    "from matplotlib import pyplot as plt\n",
    "from statsmodels.graphics.gofplots import qqplot\n",
    "import warnings\n",
    "warnings.filterwarnings('ignore')"
   ]
  },
  {
   "cell_type": "markdown",
   "id": "ec334022",
   "metadata": {},
   "source": [
    "# Box Plot"
   ]
  },
  {
   "cell_type": "code",
   "execution_count": 569,
   "id": "0b599a1b",
   "metadata": {},
   "outputs": [
    {
     "data": {
      "image/png": "[encoded data removed]",
      "text/plain": [
       "<Figure size 720x288 with 1 Axes>"
      ]
     },
     "metadata": {},
     "output_type": "display_data"
    }
   ],
   "source": [
    "def Box_plots(df):\n",
    "    plt.figure(figsize=(10, 4))\n",
    "    plt.title(\"Box Plot\")\n",
    "    sns.boxplot(df)\n",
    "    plt.show()\n",
    "Box_plots(OUTLIERS['year'])\n",
    "plt.show()"
   ]
  },
  {
   "cell_type": "code",
   "execution_count": 570,
   "id": "20f956f7",
   "metadata": {},
   "outputs": [
    {
     "data": {
      "image/png": "[encoded data removed]",
      "text/plain": [
       "<Figure size 720x288 with 1 Axes>"
      ]
     },
     "metadata": {},
     "output_type": "display_data"
    }
   ],
   "source": [
    "def Box_plots(df):\n",
    "    plt.figure(figsize=(10, 4))\n",
    "    plt.title(\"Box Plot\")\n",
    "    sns.boxplot(df)\n",
    "    plt.show()\n",
    "Box_plots(OUTLIERS['day'])\n",
    "plt.show()"
   ]
  },
  {
   "cell_type": "code",
   "execution_count": 571,
   "id": "0b33fb28",
   "metadata": {},
   "outputs": [
    {
     "data": {
      "image/png": "[encoded data removed]",
      "text/plain": [
       "<Figure size 720x288 with 1 Axes>"
      ]
     },
     "metadata": {},
     "output_type": "display_data"
    }
   ],
   "source": [
    "def Box_plots(df):\n",
    "    plt.figure(figsize=(10, 4))\n",
    "    plt.title(\"Box Plot\")\n",
    "    sns.boxplot(df)\n",
    "    plt.show()\n",
    "Box_plots(OUTLIERS['births'])\n",
    "plt.show()"
   ]
  },
  {
   "cell_type": "markdown",
   "id": "39d27b27",
   "metadata": {},
   "source": [
    "# Histogram Plot"
   ]
  },
  {
   "cell_type": "code",
   "execution_count": 572,
   "id": "b8b5aee2",
   "metadata": {},
   "outputs": [
    {
     "data": {
      "image/png": "[encoded data removed]",
      "text/plain": [
       "<Figure size 720x288 with 1 Axes>"
      ]
     },
     "metadata": {},
     "output_type": "display_data"
    }
   ],
   "source": [
    "def hist_plots(df):\n",
    "    plt.figure(figsize=(10, 4))\n",
    "    plt.hist(df)\n",
    "    plt.title(\"Histogram Plot\")\n",
    "    plt.show()\n",
    "hist_plots(OUTLIERS['year'])"
   ]
  },
  {
   "cell_type": "code",
   "execution_count": 573,
   "id": "f9fc483f",
   "metadata": {},
   "outputs": [
    {
     "data": {
      "image/png": "[encoded data removed]",
      "text/plain": [
       "<Figure size 720x288 with 1 Axes>"
      ]
     },
     "metadata": {},
     "output_type": "display_data"
    }
   ],
   "source": [
    "def hist_plots(df):\n",
    "    plt.figure(figsize=(10, 4))\n",
    "    plt.hist(df)\n",
    "    plt.title(\"Histogram Plot\")\n",
    "    plt.show()\n",
    "hist_plots(OUTLIERS['day'])"
   ]
  },
  {
   "cell_type": "code",
   "execution_count": 574,
   "id": "e4400347",
   "metadata": {},
   "outputs": [
    {
     "data": {
      "image/png": "[encoded data removed]",
      "text/plain": [
       "<Figure size 720x288 with 1 Axes>"
      ]
     },
     "metadata": {},
     "output_type": "display_data"
    }
   ],
   "source": [
    "def hist_plots(df):\n",
    "    plt.figure(figsize=(10, 4))\n",
    "    plt.hist(df)\n",
    "    plt.title(\"Histogram Plot\")\n",
    "    plt.show()\n",
    "hist_plots(OUTLIERS['births'])"
   ]
  },
  {
   "cell_type": "markdown",
   "id": "cfbebf0d",
   "metadata": {},
   "source": [
    "# Scatter Plot"
   ]
  },
  {
   "cell_type": "code",
   "execution_count": 575,
   "id": "8a7e7f2f",
   "metadata": {},
   "outputs": [
    {
     "data": {
      "image/png": "[encoded data removed]",
      "text/plain": [
       "<Figure size 720x288 with 1 Axes>"
      ]
     },
     "metadata": {},
     "output_type": "display_data"
    }
   ],
   "source": [
    "# Relationship between year and day\n",
    "def scatter_plots(df1,df2):\n",
    "    fig, ax = plt.subplots(figsize=(10,4))\n",
    "    ax.scatter(df1,df2)\n",
    "    ax.set_xlabel('year')\n",
    "    ax.set_ylabel('day')\n",
    "    plt.title(\"Scatter Plot\")\n",
    "    plt.show()\n",
    "scatter_plots(OUTLIERS['year'],OUTLIERS['day'])"
   ]
  },
  {
   "cell_type": "code",
   "execution_count": 576,
   "id": "2dcee31c",
   "metadata": {},
   "outputs": [
    {
     "data": {
      "image/png": "[encoded data removed]",
      "text/plain": [
       "<Figure size 720x288 with 1 Axes>"
      ]
     },
     "metadata": {},
     "output_type": "display_data"
    }
   ],
   "source": [
    "# Relationship between year and births\n",
    "def scatter_plots(df1,df2):\n",
    "    fig, ax = plt.subplots(figsize=(10,4))\n",
    "    ax.scatter(df1,df2)\n",
    "    ax.set_xlabel('year')\n",
    "    ax.set_ylabel('day')\n",
    "    plt.title(\"Scatter Plot\")\n",
    "    plt.show()\n",
    "scatter_plots(OUTLIERS['year'],OUTLIERS['births'])"
   ]
  },
  {
   "cell_type": "code",
   "execution_count": 577,
   "id": "6eb475a6",
   "metadata": {},
   "outputs": [
    {
     "data": {
      "image/png": "[encoded data removed]",
      "text/plain": [
       "<Figure size 720x288 with 1 Axes>"
      ]
     },
     "metadata": {},
     "output_type": "display_data"
    }
   ],
   "source": [
    "# Relationship between day and births\n",
    "def scatter_plots(df1,df2):\n",
    "    fig, ax = plt.subplots(figsize=(10,4))\n",
    "    ax.scatter(df1,df2)\n",
    "    ax.set_xlabel('year')\n",
    "    ax.set_ylabel('day')\n",
    "    plt.title(\"Scatter Plot\")\n",
    "    plt.show()\n",
    "scatter_plots(OUTLIERS['day'],OUTLIERS['births'])"
   ]
  },
  {
   "cell_type": "markdown",
   "id": "de96b60d",
   "metadata": {},
   "source": [
    "# Distribution Plot"
   ]
  },
  {
   "cell_type": "code",
   "execution_count": 578,
   "id": "520406fb",
   "metadata": {},
   "outputs": [
    {
     "data": {
      "image/png": "[encoded data removed]",
      "text/plain": [
       "<Figure size 720x288 with 1 Axes>"
      ]
     },
     "metadata": {},
     "output_type": "display_data"
    }
   ],
   "source": [
    "def dist_plots(df):\n",
    "    plt.figure(figsize=(10, 4))\n",
    "    sns.distplot(df)\n",
    "    plt.title(\"Distribution plot\")\n",
    "    sns.despine()\n",
    "    plt.show()\n",
    "dist_plots(OUTLIERS['day'])"
   ]
  },
  {
   "cell_type": "code",
   "execution_count": 579,
   "id": "cc84574b",
   "metadata": {},
   "outputs": [
    {
     "data": {
      "image/png": "[encoded data removed]",
      "text/plain": [
       "<Figure size 720x288 with 1 Axes>"
      ]
     },
     "metadata": {},
     "output_type": "display_data"
    }
   ],
   "source": [
    "def dist_plots(df):\n",
    "    plt.figure(figsize=(10, 4))\n",
    "    sns.distplot(df)\n",
    "    plt.title(\"Distribution plot\")\n",
    "    sns.despine()\n",
    "    plt.show()\n",
    "dist_plots(OUTLIERS['year'])"
   ]
  },
  {
   "cell_type": "code",
   "execution_count": 580,
   "id": "4deb3844",
   "metadata": {},
   "outputs": [
    {
     "data": {
      "image/png": "[encoded data removed]",
      "text/plain": [
       "<Figure size 720x288 with 1 Axes>"
      ]
     },
     "metadata": {},
     "output_type": "display_data"
    }
   ],
   "source": [
    "def dist_plots(df):\n",
    "    plt.figure(figsize=(10, 4))\n",
    "    sns.distplot(df)\n",
    "    plt.title(\"Distribution plot\")\n",
    "    sns.despine()\n",
    "    plt.show()\n",
    "dist_plots(OUTLIERS['births'])"
   ]
  },
  {
   "cell_type": "markdown",
   "id": "5344e3d9",
   "metadata": {},
   "source": [
    "# Normal QQPlots"
   ]
  },
  {
   "cell_type": "code",
   "execution_count": 581,
   "id": "4ca57f4e",
   "metadata": {},
   "outputs": [
    {
     "data": {
      "text/plain": [
       "<Figure size 720x288 with 0 Axes>"
      ]
     },
     "metadata": {},
     "output_type": "display_data"
    },
    {
     "data": {
      "image/png": "[encoded data removed]",
      "text/plain": [
       "<Figure size 432x288 with 1 Axes>"
      ]
     },
     "metadata": {},
     "output_type": "display_data"
    }
   ],
   "source": [
    "def qq_plots(df):\n",
    "    plt.figure(figsize=(10, 4))\n",
    "    qqplot(df,line='s')\n",
    "    plt.title(\"Normal QQPlot\")\n",
    "    plt.show()\n",
    "qq_plots(OUTLIERS['year'])"
   ]
  },
  {
   "cell_type": "code",
   "execution_count": 582,
   "id": "de7d50ad",
   "metadata": {},
   "outputs": [
    {
     "data": {
      "text/plain": [
       "<Figure size 720x288 with 0 Axes>"
      ]
     },
     "metadata": {},
     "output_type": "display_data"
    },
    {
     "data": {
      "image/png": "[encoded data removed]",
      "text/plain": [
       "<Figure size 432x288 with 1 Axes>"
      ]
     },
     "metadata": {},
     "output_type": "display_data"
    }
   ],
   "source": [
    "def qq_plots(df):\n",
    "    plt.figure(figsize=(10, 4))\n",
    "    qqplot(df,line='s')\n",
    "    plt.title(\"Normal QQPlot\")\n",
    "    plt.show()\n",
    "qq_plots(OUTLIERS['day'])"
   ]
  },
  {
   "cell_type": "code",
   "execution_count": 583,
   "id": "3c763493",
   "metadata": {},
   "outputs": [
    {
     "data": {
      "text/plain": [
       "<Figure size 720x288 with 0 Axes>"
      ]
     },
     "metadata": {},
     "output_type": "display_data"
    },
    {
     "data": {
      "image/png": "[encoded data removed]",
      "text/plain": [
       "<Figure size 432x288 with 1 Axes>"
      ]
     },
     "metadata": {},
     "output_type": "display_data"
    }
   ],
   "source": [
    "def qq_plots(df):\n",
    "    plt.figure(figsize=(10, 4))\n",
    "    qqplot(df,line='s')\n",
    "    plt.title(\"Normal QQPlot\")\n",
    "    plt.show()\n",
    "qq_plots(OUTLIERS['births'])"
   ]
  },
  {
   "cell_type": "markdown",
   "id": "d44e84ad",
   "metadata": {},
   "source": [
    "# Kurtosis = 3 corresponds to a normal distribution with no excess kurtosis.  Kurtosis > 3 indicates heavy tails (leptokurtic) with more extreme values. Kurtosis < 3 indicates light tails (platykurtic) with fewer extreme values."
   ]
  },
  {
   "cell_type": "markdown",
   "id": "1ceb5051",
   "metadata": {},
   "source": [
    "#  Kurtosis is a statistical measure that quantifies the \"tailedness\" or the shape of the probability distribution of a dataset. In simpler terms, it tells you whether the data is more or less extreme (outliers) than a normal distribution. Kurtosis provides information about the presence and degree of outliers in your data and how these outliers deviate from a normal distribution."
   ]
  },
  {
   "cell_type": "code",
   "execution_count": 584,
   "id": "6bc5b109",
   "metadata": {},
   "outputs": [
    {
     "data": {
      "text/plain": [
       "1.2995529184789802"
      ]
     },
     "execution_count": 584,
     "metadata": {},
     "output_type": "execute_result"
    }
   ],
   "source": [
    "OUTLIERS['year'].kurt()"
   ]
  },
  {
   "cell_type": "code",
   "execution_count": 585,
   "id": "9fa7f611",
   "metadata": {},
   "outputs": [
    {
     "data": {
      "text/plain": [
       "15.771717792445404"
      ]
     },
     "execution_count": 585,
     "metadata": {},
     "output_type": "execute_result"
    }
   ],
   "source": [
    "OUTLIERS['day'].kurt()"
   ]
  },
  {
   "cell_type": "code",
   "execution_count": 586,
   "id": "f825326e",
   "metadata": {},
   "outputs": [
    {
     "data": {
      "text/plain": [
       "27.826737438332266"
      ]
     },
     "execution_count": 586,
     "metadata": {},
     "output_type": "execute_result"
    }
   ],
   "source": [
    "OUTLIERS['births'].kurt()"
   ]
  },
  {
   "cell_type": "markdown",
   "id": "eb326068",
   "metadata": {},
   "source": [
    "# Skewness measures the extent to which the data values are not symmetrical around the mean "
   ]
  },
  {
   "cell_type": "markdown",
   "id": "9fafe778",
   "metadata": {},
   "source": [
    "# 1>   Mean < Median : negative, or left-Skewned distribution.                              2> Mean = Median : Symmetrical Distribution (zero Skewness).                          3> Mean > Median : positive , or right - Skewed distribution."
   ]
  },
  {
   "cell_type": "code",
   "execution_count": 587,
   "id": "14ac5bd4",
   "metadata": {},
   "outputs": [
    {
     "data": {
      "text/plain": [
       "0.7581654074828865"
      ]
     },
     "execution_count": 587,
     "metadata": {},
     "output_type": "execute_result"
    }
   ],
   "source": [
    "OUTLIERS['year'].skew()"
   ]
  },
  {
   "cell_type": "code",
   "execution_count": 588,
   "id": "c536cbbc",
   "metadata": {},
   "outputs": [
    {
     "data": {
      "text/plain": [
       "3.362374189432183"
      ]
     },
     "execution_count": 588,
     "metadata": {},
     "output_type": "execute_result"
    }
   ],
   "source": [
    "OUTLIERS['day'].skew()"
   ]
  },
  {
   "cell_type": "code",
   "execution_count": 589,
   "id": "274e8138",
   "metadata": {},
   "outputs": [
    {
     "data": {
      "text/plain": [
       "5.446006959551943"
      ]
     },
     "execution_count": 589,
     "metadata": {},
     "output_type": "execute_result"
    }
   ],
   "source": [
    "OUTLIERS['births'].skew()"
   ]
  },
  {
   "cell_type": "markdown",
   "id": "f838b8cb",
   "metadata": {},
   "source": [
    "# Visualisation of skewness "
   ]
  },
  {
   "cell_type": "code",
   "execution_count": 590,
   "id": "8f8fac1f",
   "metadata": {},
   "outputs": [
    {
     "data": {
      "image/png": "[encoded data removed]",
      "text/plain": [
       "<Figure size 432x288 with 1 Axes>"
      ]
     },
     "metadata": {},
     "output_type": "display_data"
    }
   ],
   "source": [
    "import numpy as np\n",
    "import matplotlib.pyplot as plt\n",
    "from scipy import stats\n",
    "\n",
    "# Find skewness\n",
    "data = OUTLIERS['year']\n",
    "\n",
    "# Calculate skewness using SciPy's skew function\n",
    "skewness = stats.skew(data)\n",
    "\n",
    "# Create a histogram\n",
    "plt.hist(data, bins=30, alpha=0.7, color='#108A99', label='Data')\n",
    "\n",
    "# Add a vertical line for the mean, median, and mode\n",
    "plt.axvline(data.mean(), color='red', linestyle='dashed', linewidth=2, label='Mean')\n",
    "plt.axvline(np.median(data), color='green', linestyle='dashed', linewidth=2, label='Median')\n",
    "plt.axvline(stats.mode(data).mode[0], color='purple', linestyle='dashed', linewidth=2, label='Mode')\n",
    "\n",
    "plt.title(f\"Skewness = {skewness:.2f}\")\n",
    "plt.legend()\n",
    "plt.show()"
   ]
  },
  {
   "cell_type": "code",
   "execution_count": 591,
   "id": "6d3efc80",
   "metadata": {},
   "outputs": [
    {
     "data": {
      "image/png": "[encoded data removed]",
      "text/plain": [
       "<Figure size 432x288 with 1 Axes>"
      ]
     },
     "metadata": {},
     "output_type": "display_data"
    }
   ],
   "source": [
    "import numpy as np\n",
    "import matplotlib.pyplot as plt\n",
    "from scipy import stats\n",
    "\n",
    "# Find skewness\n",
    "data = OUTLIERS['day']\n",
    "\n",
    "# Calculate skewness using SciPy's skew function\n",
    "skewness = stats.skew(data)\n",
    "\n",
    "# Create a histogram\n",
    "plt.hist(data, bins=30, alpha=0.7, color='#108A99', label='Data')\n",
    "\n",
    "# Add a vertical line for the mean, median, and mode\n",
    "plt.axvline(data.mean(), color='red', linestyle='dashed', linewidth=2, label='Mean')\n",
    "plt.axvline(np.median(data), color='green', linestyle='dashed', linewidth=2, label='Median')\n",
    "plt.axvline(stats.mode(data).mode[0], color='purple', linestyle='dashed', linewidth=2, label='Mode')\n",
    "\n",
    "plt.title(f\"Skewness = {skewness:.2f}\")\n",
    "plt.legend()\n",
    "plt.show()"
   ]
  },
  {
   "cell_type": "code",
   "execution_count": 592,
   "id": "a29dec64",
   "metadata": {},
   "outputs": [
    {
     "data": {
      "image/png": "[encoded data removed]",
      "text/plain": [
       "<Figure size 432x288 with 1 Axes>"
      ]
     },
     "metadata": {},
     "output_type": "display_data"
    }
   ],
   "source": [
    "import numpy as np\n",
    "import matplotlib.pyplot as plt\n",
    "from scipy import stats\n",
    "\n",
    "# Find skewness\n",
    "data = OUTLIERS['births']\n",
    "\n",
    "# Calculate skewness using SciPy's skew function\n",
    "skewness = stats.skew(data)\n",
    "\n",
    "# Create a histogram\n",
    "plt.hist(data, bins=30, alpha=0.7, color='#108A99', label='Data')\n",
    "\n",
    "# Add a vertical line for the mean, median, and mode\n",
    "plt.axvline(data.mean(), color='red', linestyle='dashed', linewidth=2, label='Mean')\n",
    "plt.axvline(np.median(data), color='green', linestyle='dashed', linewidth=2, label='Median')\n",
    "plt.axvline(stats.mode(data).mode[0], color='purple', linestyle='dashed', linewidth=2, label='Mode')\n",
    "\n",
    "plt.title(f\"Skewness = {skewness:.2f}\")\n",
    "plt.legend()\n",
    "plt.show()"
   ]
  },
  {
   "cell_type": "markdown",
   "id": "e67f231b",
   "metadata": {},
   "source": [
    "# Visualisation of skewness on different plots"
   ]
  },
  {
   "cell_type": "code",
   "execution_count": 600,
   "id": "0665e165",
   "metadata": {},
   "outputs": [
    {
     "data": {
      "image/png": "[encoded data removed]",
      "text/plain": [
       "<Figure size 1080x360 with 3 Axes>"
      ]
     },
     "metadata": {},
     "output_type": "display_data"
    }
   ],
   "source": [
    "import numpy as np\n",
    "import matplotlib.pyplot as plt\n",
    "import seaborn as sns\n",
    "from scipy.stats import skew\n",
    "\n",
    "# Generate example data with different skewness values\n",
    "data1 = OUTLIERS['year']  # Normally distributed (skewness ≈ 0)\n",
    "data2 = OUTLIERS['day']  # Positively skewed (right-skewed)\n",
    "data3 = OUTLIERS['births']  # Negatively skewed (left-skewed)\n",
    "\n",
    "# Create a figure with subplots\n",
    "fig, axes = plt.subplots(1, 3, figsize=(15, 5))\n",
    "\n",
    "# Plot distribution plots for each dataset\n",
    "sns.histplot(data1, kde=True, ax=axes[0], color='blue', label='Data 1')\n",
    "axes[0].set_title(f\"Skewness = {skew(data1):.2f}\")\n",
    "\n",
    "sns.histplot(data2, kde=True, ax=axes[1], color='green', label='Data 2')\n",
    "axes[1].set_title(f\"Skewness = {skew(data2):.2f}\")\n",
    "\n",
    "sns.histplot(data3, kde=True, ax=axes[2], color='purple', label='Data 3')\n",
    "axes[2].set_title(f\"Skewness = {skew(data3):.2f}\")\n",
    "\n",
    "# Add a common legend\n",
    "for ax in axes:\n",
    "    ax.legend()\n",
    "\n",
    "plt.tight_layout()\n",
    "plt.show()"
   ]
  },
  {
   "cell_type": "markdown",
   "id": "422c69dd",
   "metadata": {},
   "source": [
    "# Visualisation of Kurtosis"
   ]
  },
  {
   "cell_type": "code",
   "execution_count": 596,
   "id": "551b6c7d",
   "metadata": {},
   "outputs": [
    {
     "data": {
      "image/png": "[encoded data removed]",
      "text/plain": [
       "<Figure size 1080x432 with 1 Axes>"
      ]
     },
     "metadata": {},
     "output_type": "display_data"
    }
   ],
   "source": [
    "import numpy as np\n",
    "import matplotlib.pyplot as plt\n",
    "from scipy.stats import kurtosis\n",
    "data_1 = OUTLIERS['year']\n",
    "# Calculate kurtosis for each dataset\n",
    "kurtosis1 = kurtosis(data_1)\n",
    "# Create histograms for each dataset\n",
    "plt.figure(figsize=(15, 6))\n",
    "plt.subplot(131)\n",
    "plt.hist(data_1, bins=30, alpha=0.7, color='#108A99', label='Data 1')\n",
    "plt.axvline(np.mean(data_1), color='red', linestyle='dashed', linewidth=2, label='Mean')\n",
    "plt.title(f\"Kurtosis = {kurtosis1:.2f}\")\n",
    "plt.legend()\n",
    "plt.show()"
   ]
  },
  {
   "cell_type": "code",
   "execution_count": 597,
   "id": "420d5f9e",
   "metadata": {},
   "outputs": [
    {
     "data": {
      "image/png": "[encoded data removed]",
      "text/plain": [
       "<Figure size 1080x432 with 1 Axes>"
      ]
     },
     "metadata": {},
     "output_type": "display_data"
    }
   ],
   "source": [
    "import numpy as np\n",
    "import matplotlib.pyplot as plt\n",
    "from scipy.stats import kurtosis\n",
    "data_1 = OUTLIERS['day']\n",
    "# Calculate kurtosis for each dataset\n",
    "kurtosis1 = kurtosis(data_1)\n",
    "# Create histograms for each dataset\n",
    "plt.figure(figsize=(15, 6))\n",
    "plt.subplot(131)\n",
    "plt.hist(data_1, bins=30, alpha=0.7, color='#108A99', label='Data 1')\n",
    "plt.axvline(np.mean(data_1), color='red', linestyle='dashed', linewidth=2, label='Mean')\n",
    "plt.title(f\"Kurtosis = {kurtosis1:.2f}\")\n",
    "plt.legend()\n",
    "plt.show()"
   ]
  },
  {
   "cell_type": "code",
   "execution_count": 598,
   "id": "3d9de62a",
   "metadata": {},
   "outputs": [
    {
     "data": {
      "image/png": "[encoded data removed]",
      "text/plain": [
       "<Figure size 1080x432 with 1 Axes>"
      ]
     },
     "metadata": {},
     "output_type": "display_data"
    }
   ],
   "source": [
    "import numpy as np\n",
    "import matplotlib.pyplot as plt\n",
    "from scipy.stats import kurtosis\n",
    "data_1 = OUTLIERS['births']\n",
    "# Calculate kurtosis for each dataset\n",
    "kurtosis1 = kurtosis(data_1)\n",
    "# Create histograms for each dataset\n",
    "plt.figure(figsize=(15, 6))\n",
    "plt.subplot(131)\n",
    "plt.hist(data_1, bins=30, alpha=0.7, color='#108A99', label='Data 1')\n",
    "plt.axvline(np.mean(data_1), color='red', linestyle='dashed', linewidth=2, label='Mean')\n",
    "plt.title(f\"Kurtosis = {kurtosis1:.2f}\")\n",
    "plt.legend()\n",
    "plt.show()"
   ]
  },
  {
   "cell_type": "markdown",
   "id": "5d6a7bce",
   "metadata": {},
   "source": [
    "# Visualisation of kurtosis on different plots"
   ]
  },
  {
   "cell_type": "code",
   "execution_count": 602,
   "id": "751f9692",
   "metadata": {},
   "outputs": [
    {
     "data": {
      "image/png": "[encoded data removed]",
      "text/plain": [
       "<Figure size 864x576 with 3 Axes>"
      ]
     },
     "metadata": {},
     "output_type": "display_data"
    }
   ],
   "source": [
    "import numpy as np\n",
    "import matplotlib.pyplot as plt\n",
    "import seaborn as sns\n",
    "from scipy.stats import kurtosis\n",
    "dataset_1 = OUTLIERS['year']  # Normal distribution (kurtosis = 3)\n",
    "dataset_2 = OUTLIERS['day']  # Laplace distribution (excess kurtosis > 3)\n",
    "dataset_3 = OUTLIERS['births']  # Uniform distribution (excess kurtosis < 3)\n",
    "\n",
    "# Create a figure with subplots\n",
    "fig, axes = plt.subplots(1, 3, figsize=(12, 8))\n",
    "\n",
    "# Plot distribution plots for each dataset\n",
    "sns.histplot(dataset_1, kde=True, ax=axes[0], color='#108A99', label='Data 1')\n",
    "axes[0].set_title(f\"Kurtosis = {kurtosis(dataset_1):.2f}\")\n",
    "\n",
    "sns.histplot(dataset_2, kde=True, ax=axes[1], color='#069AF3', label='Data 2')\n",
    "axes[1].set_title(f\"Kurtosis = {kurtosis(dataset_2):.2f}\")\n",
    "\n",
    "sns.histplot(dataset_3, kde=True, ax=axes[2], color='#FF4500', label='Data 3')\n",
    "axes[2].set_title(f\"Kurtosis = {kurtosis(dataset_3):.2f}\")\n",
    "\n",
    "# Add a common legend\n",
    "for ax in axes:\n",
    "    ax.legend()\n",
    "\n",
    "plt.tight_layout()\n",
    "plt.show()"
   ]
  },
  {
   "cell_type": "code",
   "execution_count": 608,
   "id": "37060f65",
   "metadata": {},
   "outputs": [
    {
     "data": {
      "text/html": [
       "<div>\n",
       "<style scoped>\n",
       "    .dataframe tbody tr th:only-of-type {\n",
       "        vertical-align: middle;\n",
       "    }\n",
       "\n",
       "    .dataframe tbody tr th {\n",
       "        vertical-align: top;\n",
       "    }\n",
       "\n",
       "    .dataframe thead th {\n",
       "        text-align: right;\n",
       "    }\n",
       "</style>\n",
       "<table border=\"1\" class=\"dataframe\">\n",
       "  <thead>\n",
       "    <tr style=\"text-align: right;\">\n",
       "      <th></th>\n",
       "      <th>year</th>\n",
       "      <th>month</th>\n",
       "      <th>day</th>\n",
       "      <th>gender</th>\n",
       "      <th>births</th>\n",
       "    </tr>\n",
       "  </thead>\n",
       "  <tbody>\n",
       "    <tr>\n",
       "      <th>0</th>\n",
       "      <td>1969</td>\n",
       "      <td>1</td>\n",
       "      <td>1.0</td>\n",
       "      <td>F</td>\n",
       "      <td>4046</td>\n",
       "    </tr>\n",
       "    <tr>\n",
       "      <th>1</th>\n",
       "      <td>1969</td>\n",
       "      <td>1</td>\n",
       "      <td>1.0</td>\n",
       "      <td>M</td>\n",
       "      <td>4440</td>\n",
       "    </tr>\n",
       "    <tr>\n",
       "      <th>2</th>\n",
       "      <td>1969</td>\n",
       "      <td>1</td>\n",
       "      <td>2.0</td>\n",
       "      <td>F</td>\n",
       "      <td>4454</td>\n",
       "    </tr>\n",
       "    <tr>\n",
       "      <th>3</th>\n",
       "      <td>1969</td>\n",
       "      <td>1</td>\n",
       "      <td>2.0</td>\n",
       "      <td>M</td>\n",
       "      <td>4548</td>\n",
       "    </tr>\n",
       "    <tr>\n",
       "      <th>4</th>\n",
       "      <td>1969</td>\n",
       "      <td>1</td>\n",
       "      <td>3.0</td>\n",
       "      <td>F</td>\n",
       "      <td>4548</td>\n",
       "    </tr>\n",
       "  </tbody>\n",
       "</table>\n",
       "</div>"
      ],
      "text/plain": [
       "   year  month  day gender  births\n",
       "0  1969      1  1.0      F    4046\n",
       "1  1969      1  1.0      M    4440\n",
       "2  1969      1  2.0      F    4454\n",
       "3  1969      1  2.0      M    4548\n",
       "4  1969      1  3.0      F    4548"
      ]
     },
     "execution_count": 608,
     "metadata": {},
     "output_type": "execute_result"
    }
   ],
   "source": [
    "OUTLIERS.head()"
   ]
  },
  {
   "cell_type": "code",
   "execution_count": 605,
   "id": "989c83ec",
   "metadata": {},
   "outputs": [
    {
     "data": {
      "text/plain": [
       "<AxesSubplot:>"
      ]
     },
     "execution_count": 605,
     "metadata": {},
     "output_type": "execute_result"
    },
    {
     "data": {
      "image/png": "[encoded data removed]",
      "text/plain": [
       "<Figure size 432x288 with 1 Axes>"
      ]
     },
     "metadata": {},
     "output_type": "display_data"
    }
   ],
   "source": [
    "demo = OUTLIERS['year']\n",
    "demo.hist(ax = None, histtype = 'stepfilled', bins = 20)"
   ]
  },
  {
   "cell_type": "code",
   "execution_count": 606,
   "id": "93f0d45b",
   "metadata": {},
   "outputs": [
    {
     "data": {
      "text/plain": [
       "<AxesSubplot:>"
      ]
     },
     "execution_count": 606,
     "metadata": {},
     "output_type": "execute_result"
    },
    {
     "data": {
      "image/png": "[encoded data removed]",
      "text/plain": [
       "<Figure size 432x288 with 1 Axes>"
      ]
     },
     "metadata": {},
     "output_type": "display_data"
    }
   ],
   "source": [
    "demo_1 = OUTLIERS['month']\n",
    "demo_1.hist(by = None , histtype = 'stepfilled' , bins = 20)"
   ]
  },
  {
   "cell_type": "code",
   "execution_count": 607,
   "id": "e85441c2",
   "metadata": {},
   "outputs": [
    {
     "data": {
      "text/plain": [
       "<AxesSubplot:>"
      ]
     },
     "execution_count": 607,
     "metadata": {},
     "output_type": "execute_result"
    },
    {
     "data": {
      "image/png": "[encoded data removed]",
      "text/plain": [
       "<Figure size 432x288 with 1 Axes>"
      ]
     },
     "metadata": {},
     "output_type": "display_data"
    }
   ],
   "source": [
    "demo_2 = OUTLIERS['day']\n",
    "demo_2.hist(by = None, histtype = 'stepfilled', bins = 20)"
   ]
  },
  {
   "cell_type": "code",
   "execution_count": 615,
   "id": "c7a67606",
   "metadata": {},
   "outputs": [
    {
     "data": {
      "text/plain": [
       "<AxesSubplot:>"
      ]
     },
     "execution_count": 615,
     "metadata": {},
     "output_type": "execute_result"
    },
    {
     "data": {
      "image/png": "[encoded data removed]",
      "text/plain": [
       "<Figure size 432x288 with 1 Axes>"
      ]
     },
     "metadata": {},
     "output_type": "display_data"
    }
   ],
   "source": [
    "demo_01 = OUTLIERS['gender']\n",
    "demo_01.hist(by = None, histtype = 'stepfilled', bins = 20)"
   ]
  },
  {
   "cell_type": "code",
   "execution_count": 609,
   "id": "7db54185",
   "metadata": {},
   "outputs": [],
   "source": [
    "from sklearn.preprocessing import OneHotEncoder"
   ]
  },
  {
   "cell_type": "code",
   "execution_count": 629,
   "id": "0e78ac86",
   "metadata": {},
   "outputs": [],
   "source": [
    "# if you will use sparse = False the remove the toarray()\n",
    "ohe = OneHotEncoder(drop = 'first')"
   ]
  },
  {
   "cell_type": "code",
   "execution_count": 630,
   "id": "c7ec1269",
   "metadata": {},
   "outputs": [
    {
     "data": {
      "text/plain": [
       "array([[0.],\n",
       "       [1.],\n",
       "       [0.],\n",
       "       ...,\n",
       "       [1.],\n",
       "       [0.],\n",
       "       [1.]])"
      ]
     },
     "execution_count": 630,
     "metadata": {},
     "output_type": "execute_result"
    }
   ],
   "source": [
    "demo_02 = ohe.fit_transform(OUTLIERS[['gender']]).toarray()\n",
    "demo_02"
   ]
  },
  {
   "cell_type": "code",
   "execution_count": 631,
   "id": "f4f2e185",
   "metadata": {},
   "outputs": [
    {
     "data": {
      "image/png": "[encoded data removed]",
      "text/plain": [
       "<Figure size 720x288 with 1 Axes>"
      ]
     },
     "metadata": {},
     "output_type": "display_data"
    }
   ],
   "source": [
    "def Box_plots(df):\n",
    "    plt.figure(figsize=(10, 4))\n",
    "    plt.title(\"Box Plot\")\n",
    "    sns.boxplot(df)\n",
    "    plt.show()\n",
    "Box_plots(demo_02)\n",
    "plt.show()"
   ]
  },
  {
   "cell_type": "code",
   "execution_count": 633,
   "id": "108609a6",
   "metadata": {},
   "outputs": [
    {
     "name": "stdout",
     "output_type": "stream",
     "text": [
      "Outliers: []\n"
     ]
    }
   ],
   "source": [
    "out = []\n",
    "def Z_Score_Outliers(demo):\n",
    "    mean_value = np.mean(demo)\n",
    "    std_dev = np.std(demo)\n",
    "    for i in demo:\n",
    "        Z_Score = (i - mean_value) / std_dev\n",
    "        if np.abs(Z_Score) > 3:\n",
    "            out.append(i)\n",
    "    print(\"Outliers:\", out)\n",
    "Z_Score_Outliers(demo_02)"
   ]
  },
  {
   "cell_type": "code",
   "execution_count": 636,
   "id": "95897e90",
   "metadata": {},
   "outputs": [
    {
     "data": {
      "image/png": "[encoded data removed]",
      "text/plain": [
       "<Figure size 720x288 with 1 Axes>"
      ]
     },
     "metadata": {},
     "output_type": "display_data"
    }
   ],
   "source": [
    "def dist_plots(df):\n",
    "    plt.figure(figsize=(10, 4))\n",
    "    sns.distplot(df)\n",
    "    plt.title(\"Distribution plot\")\n",
    "    sns.despine()\n",
    "    plt.show()\n",
    "dist_plots(demo_02)"
   ]
  },
  {
   "cell_type": "code",
   "execution_count": null,
   "id": "fc911f3a",
   "metadata": {},
   "outputs": [],
   "source": []
  }
 ],
 "metadata": {
  "kernelspec": {
   "display_name": "Python 3 (ipykernel)",
   "language": "python",
   "name": "python3"
  },
  "language_info": {
   "codemirror_mode": {
    "name": "ipython",
    "version": 3
   },
   "file_extension": ".py",
   "mimetype": "text/x-python",
   "name": "python",
   "nbconvert_exporter": "python",
   "pygments_lexer": "ipython3",
   "version": "3.9.12"
  }
 },
 "nbformat": 4,
 "nbformat_minor": 5
}
